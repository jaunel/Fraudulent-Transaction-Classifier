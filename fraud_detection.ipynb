{
 "cells": [
  {
   "cell_type": "markdown",
   "id": "WBFZSHMHoSKk",
   "metadata": {
    "id": "WBFZSHMHoSKk"
   },
   "source": [
    "# 1. Data Acquisition"
   ]
  },
  {
   "cell_type": "code",
   "execution_count": 1,
   "id": "d5d3d68b",
   "metadata": {
    "id": "d5d3d68b"
   },
   "outputs": [],
   "source": [
    "# Importing the libraries\n",
    "import pandas as pd\n",
    "import numpy as np\n",
    "import matplotlib.pyplot as plt\n",
    "import seaborn as sns\n",
    "from statsmodels.stats.outliers_influence import variance_inflation_factor\n",
    "from sklearn.metrics import recall_score,precision_score,f1_score,confusion_matrix,roc_curve,roc_auc_score,accuracy_score\n",
    "from imblearn.over_sampling import RandomOverSampler\n",
    "from collections import Counter"
   ]
  },
  {
   "cell_type": "code",
   "execution_count": 2,
   "id": "d928ce52",
   "metadata": {
    "id": "d928ce52"
   },
   "outputs": [],
   "source": [
    "# Reading CSV file\n",
    "df = pd.read_csv(\"Fraud.csv\")"
   ]
  },
  {
   "cell_type": "code",
   "execution_count": 3,
   "id": "49249d77",
   "metadata": {
    "colab": {
     "base_uri": "https://localhost:8080/"
    },
    "id": "49249d77",
    "outputId": "ef6f19bf-a187-468b-c422-30dbc00df68e"
   },
   "outputs": [
    {
     "data": {
      "text/plain": [
       "(6362620, 11)"
      ]
     },
     "execution_count": 3,
     "metadata": {},
     "output_type": "execute_result"
    }
   ],
   "source": [
    "# Checking how big the data is\n",
    "df.shape"
   ]
  },
  {
   "cell_type": "code",
   "execution_count": 4,
   "id": "965ed0a4",
   "metadata": {
    "colab": {
     "base_uri": "https://localhost:8080/",
     "height": 250
    },
    "id": "965ed0a4",
    "outputId": "ef089953-5330-4c0c-958b-4645d0d8d76d"
   },
   "outputs": [
    {
     "data": {
      "text/html": [
       "<div>\n",
       "<style scoped>\n",
       "    .dataframe tbody tr th:only-of-type {\n",
       "        vertical-align: middle;\n",
       "    }\n",
       "\n",
       "    .dataframe tbody tr th {\n",
       "        vertical-align: top;\n",
       "    }\n",
       "\n",
       "    .dataframe thead th {\n",
       "        text-align: right;\n",
       "    }\n",
       "</style>\n",
       "<table border=\"1\" class=\"dataframe\">\n",
       "  <thead>\n",
       "    <tr style=\"text-align: right;\">\n",
       "      <th></th>\n",
       "      <th>step</th>\n",
       "      <th>type</th>\n",
       "      <th>amount</th>\n",
       "      <th>nameOrig</th>\n",
       "      <th>oldbalanceOrg</th>\n",
       "      <th>newbalanceOrig</th>\n",
       "      <th>nameDest</th>\n",
       "      <th>oldbalanceDest</th>\n",
       "      <th>newbalanceDest</th>\n",
       "      <th>isFraud</th>\n",
       "      <th>isFlaggedFraud</th>\n",
       "    </tr>\n",
       "  </thead>\n",
       "  <tbody>\n",
       "    <tr>\n",
       "      <th>4684978</th>\n",
       "      <td>331</td>\n",
       "      <td>CASH_IN</td>\n",
       "      <td>235060.40</td>\n",
       "      <td>C492004920</td>\n",
       "      <td>3392835.92</td>\n",
       "      <td>3627896.32</td>\n",
       "      <td>C2001396534</td>\n",
       "      <td>412820.45</td>\n",
       "      <td>177760.05</td>\n",
       "      <td>0</td>\n",
       "      <td>0</td>\n",
       "    </tr>\n",
       "    <tr>\n",
       "      <th>5787308</th>\n",
       "      <td>401</td>\n",
       "      <td>PAYMENT</td>\n",
       "      <td>15792.02</td>\n",
       "      <td>C1322913614</td>\n",
       "      <td>0.00</td>\n",
       "      <td>0.00</td>\n",
       "      <td>M1538938926</td>\n",
       "      <td>0.00</td>\n",
       "      <td>0.00</td>\n",
       "      <td>0</td>\n",
       "      <td>0</td>\n",
       "    </tr>\n",
       "    <tr>\n",
       "      <th>5840889</th>\n",
       "      <td>402</td>\n",
       "      <td>PAYMENT</td>\n",
       "      <td>9548.15</td>\n",
       "      <td>C365226074</td>\n",
       "      <td>145434.76</td>\n",
       "      <td>135886.60</td>\n",
       "      <td>M460221560</td>\n",
       "      <td>0.00</td>\n",
       "      <td>0.00</td>\n",
       "      <td>0</td>\n",
       "      <td>0</td>\n",
       "    </tr>\n",
       "    <tr>\n",
       "      <th>2034217</th>\n",
       "      <td>180</td>\n",
       "      <td>CASH_OUT</td>\n",
       "      <td>252339.00</td>\n",
       "      <td>C16800888</td>\n",
       "      <td>175759.02</td>\n",
       "      <td>0.00</td>\n",
       "      <td>C1619767054</td>\n",
       "      <td>1622329.03</td>\n",
       "      <td>1874668.04</td>\n",
       "      <td>0</td>\n",
       "      <td>0</td>\n",
       "    </tr>\n",
       "    <tr>\n",
       "      <th>2938237</th>\n",
       "      <td>230</td>\n",
       "      <td>CASH_OUT</td>\n",
       "      <td>65800.02</td>\n",
       "      <td>C88715905</td>\n",
       "      <td>0.00</td>\n",
       "      <td>0.00</td>\n",
       "      <td>C238825047</td>\n",
       "      <td>251784.18</td>\n",
       "      <td>317584.19</td>\n",
       "      <td>0</td>\n",
       "      <td>0</td>\n",
       "    </tr>\n",
       "  </tbody>\n",
       "</table>\n",
       "</div>"
      ],
      "text/plain": [
       "         step      type     amount     nameOrig  oldbalanceOrg  \\\n",
       "4684978   331   CASH_IN  235060.40   C492004920     3392835.92   \n",
       "5787308   401   PAYMENT   15792.02  C1322913614           0.00   \n",
       "5840889   402   PAYMENT    9548.15   C365226074      145434.76   \n",
       "2034217   180  CASH_OUT  252339.00    C16800888      175759.02   \n",
       "2938237   230  CASH_OUT   65800.02    C88715905           0.00   \n",
       "\n",
       "         newbalanceOrig     nameDest  oldbalanceDest  newbalanceDest  isFraud  \\\n",
       "4684978      3627896.32  C2001396534       412820.45       177760.05        0   \n",
       "5787308            0.00  M1538938926            0.00            0.00        0   \n",
       "5840889       135886.60   M460221560            0.00            0.00        0   \n",
       "2034217            0.00  C1619767054      1622329.03      1874668.04        0   \n",
       "2938237            0.00   C238825047       251784.18       317584.19        0   \n",
       "\n",
       "         isFlaggedFraud  \n",
       "4684978               0  \n",
       "5787308               0  \n",
       "5840889               0  \n",
       "2034217               0  \n",
       "2938237               0  "
      ]
     },
     "execution_count": 4,
     "metadata": {},
     "output_type": "execute_result"
    }
   ],
   "source": [
    "# How data look like\n",
    "df.sample(5)"
   ]
  },
  {
   "cell_type": "code",
   "execution_count": 5,
   "id": "49591a2c",
   "metadata": {
    "colab": {
     "base_uri": "https://localhost:8080/"
    },
    "id": "49591a2c",
    "outputId": "ada6341a-7f5d-44a8-fdce-4d115b71d9c3"
   },
   "outputs": [
    {
     "name": "stdout",
     "output_type": "stream",
     "text": [
      "<class 'pandas.core.frame.DataFrame'>\n",
      "RangeIndex: 6362620 entries, 0 to 6362619\n",
      "Data columns (total 11 columns):\n",
      " #   Column          Dtype  \n",
      "---  ------          -----  \n",
      " 0   step            int64  \n",
      " 1   type            object \n",
      " 2   amount          float64\n",
      " 3   nameOrig        object \n",
      " 4   oldbalanceOrg   float64\n",
      " 5   newbalanceOrig  float64\n",
      " 6   nameDest        object \n",
      " 7   oldbalanceDest  float64\n",
      " 8   newbalanceDest  float64\n",
      " 9   isFraud         int64  \n",
      " 10  isFlaggedFraud  int64  \n",
      "dtypes: float64(5), int64(3), object(3)\n",
      "memory usage: 534.0+ MB\n"
     ]
    }
   ],
   "source": [
    "# Checking the data type\n",
    "df.info()"
   ]
  },
  {
   "cell_type": "code",
   "execution_count": 6,
   "id": "54a38544",
   "metadata": {
    "colab": {
     "base_uri": "https://localhost:8080/"
    },
    "id": "54a38544",
    "outputId": "f915e828-6109-4b00-d069-12eaf04e258b"
   },
   "outputs": [
    {
     "data": {
      "text/plain": [
       "step              0\n",
       "type              0\n",
       "amount            0\n",
       "nameOrig          0\n",
       "oldbalanceOrg     0\n",
       "newbalanceOrig    0\n",
       "nameDest          0\n",
       "oldbalanceDest    0\n",
       "newbalanceDest    0\n",
       "isFraud           0\n",
       "isFlaggedFraud    0\n",
       "dtype: int64"
      ]
     },
     "execution_count": 6,
     "metadata": {},
     "output_type": "execute_result"
    }
   ],
   "source": [
    "# Check for null values\n",
    "df.isnull().sum()"
   ]
  },
  {
   "cell_type": "markdown",
   "id": "8vyM6gPvqIzC",
   "metadata": {
    "id": "8vyM6gPvqIzC"
   },
   "source": [
    "*  No null values found\n",
    "\n",
    "\n"
   ]
  },
  {
   "cell_type": "code",
   "execution_count": 7,
   "id": "50e2d6aa",
   "metadata": {
    "colab": {
     "base_uri": "https://localhost:8080/"
    },
    "id": "50e2d6aa",
    "outputId": "f711590a-d2bd-4275-9c41-beb1e2a4a368"
   },
   "outputs": [
    {
     "data": {
      "text/plain": [
       "0"
      ]
     },
     "execution_count": 7,
     "metadata": {},
     "output_type": "execute_result"
    }
   ],
   "source": [
    "# Check for duplicated rows\n",
    "df.duplicated().sum()"
   ]
  },
  {
   "cell_type": "markdown",
   "id": "s_QK0IlorfPr",
   "metadata": {
    "id": "s_QK0IlorfPr"
   },
   "source": [
    "*  No duplicated rows detected"
   ]
  },
  {
   "cell_type": "markdown",
   "id": "4571c434",
   "metadata": {
    "id": "4571c434"
   },
   "source": [
    "# 2. Exploratory Data Analysis"
   ]
  },
  {
   "cell_type": "markdown",
   "id": "15b85ac8",
   "metadata": {
    "id": "15b85ac8"
   },
   "source": [
    "#### 1. Exploring categorical feature"
   ]
  },
  {
   "cell_type": "code",
   "execution_count": 8,
   "id": "12a20b0d",
   "metadata": {
    "colab": {
     "base_uri": "https://localhost:8080/"
    },
    "id": "12a20b0d",
    "outputId": "67409de1-9ded-4be0-e732-000153084c32"
   },
   "outputs": [
    {
     "data": {
      "text/plain": [
       "['type', 'nameOrig', 'nameDest']"
      ]
     },
     "execution_count": 8,
     "metadata": {},
     "output_type": "execute_result"
    }
   ],
   "source": [
    "categorical_feature = [feature for feature in df.columns if (df[feature].dtypes=='object')]\n",
    "categorical_feature"
   ]
  },
  {
   "cell_type": "markdown",
   "id": "1b27412f",
   "metadata": {
    "id": "1b27412f"
   },
   "source": [
    "*  Here **nameOrig**, **nameDest** doesn't carry any relationship with the label so it will be removed during feature engg step\n",
    "*  We will analyse only for column **type** here\n"
   ]
  },
  {
   "cell_type": "code",
   "execution_count": 9,
   "id": "ff2afd5b",
   "metadata": {
    "colab": {
     "base_uri": "https://localhost:8080/",
     "height": 363
    },
    "id": "ff2afd5b",
    "outputId": "d218b4dd-a2ce-4734-9531-3253adfba35f"
   },
   "outputs": [
    {
     "name": "stderr",
     "output_type": "stream",
     "text": [
      "C:\\ProgramData\\Anaconda3\\lib\\site-packages\\seaborn\\_decorators.py:36: FutureWarning: Pass the following variable as a keyword arg: x. From version 0.12, the only valid positional argument will be `data`, and passing other arguments without an explicit keyword will result in an error or misinterpretation.\n",
      "  warnings.warn(\n"
     ]
    },
    {
     "data": {
      "text/plain": [
       "<AxesSubplot:xlabel='type', ylabel='count'>"
      ]
     },
     "execution_count": 9,
     "metadata": {},
     "output_type": "execute_result"
    },
    {
     "data": {
      "image/png": "[encoded data removed]",
      "text/plain": [
       "<Figure size 432x288 with 1 Axes>"
      ]
     },
     "metadata": {
      "needs_background": "light"
     },
     "output_type": "display_data"
    }
   ],
   "source": [
    "sns.countplot(df['type'])"
   ]
  },
  {
   "cell_type": "markdown",
   "id": "0ec695af",
   "metadata": {
    "id": "0ec695af"
   },
   "source": [
    "*  **CASH_OUT** is larger in number as compared with other "
   ]
  },
  {
   "cell_type": "markdown",
   "id": "1306f550",
   "metadata": {
    "id": "1306f550"
   },
   "source": [
    "#### 2. Exploring Numerical features\n"
   ]
  },
  {
   "cell_type": "code",
   "execution_count": 10,
   "id": "b56ef15a",
   "metadata": {
    "colab": {
     "base_uri": "https://localhost:8080/"
    },
    "id": "b56ef15a",
    "outputId": "baf418d6-b7b7-4168-9889-09810ff14cea"
   },
   "outputs": [
    {
     "data": {
      "text/plain": [
       "['amount',\n",
       " 'oldbalanceOrg',\n",
       " 'newbalanceOrig',\n",
       " 'oldbalanceDest',\n",
       " 'newbalanceDest']"
      ]
     },
     "execution_count": 10,
     "metadata": {},
     "output_type": "execute_result"
    }
   ],
   "source": [
    "numerical_feature = [feature for feature in df.columns if (df[feature].dtypes=='float64')]\n",
    "numerical_feature"
   ]
  },
  {
   "cell_type": "code",
   "execution_count": 11,
   "id": "607b07db",
   "metadata": {
    "colab": {
     "base_uri": "https://localhost:8080/",
     "height": 395
    },
    "id": "607b07db",
    "outputId": "6cda68e1-fe6a-48d1-84cf-eb724bdbde36"
   },
   "outputs": [
    {
     "data": {
      "text/plain": [
       "<AxesSubplot:>"
      ]
     },
     "execution_count": 11,
     "metadata": {},
     "output_type": "execute_result"
    },
    {
     "data": {
      "image/png": "[encoded data removed]",
      "text/plain": [
       "<Figure size 1080x432 with 2 Axes>"
      ]
     },
     "metadata": {
      "needs_background": "light"
     },
     "output_type": "display_data"
    }
   ],
   "source": [
    "corr_mat = df.corr()\n",
    "plt.figure(figsize=(15,6))\n",
    "sns.heatmap(corr_mat,annot = True)"
   ]
  },
  {
   "cell_type": "markdown",
   "id": "7b487fe8",
   "metadata": {
    "id": "7b487fe8"
   },
   "source": [
    "*  Here, column having correlation quite close to zero with respect to Label, will be removed during feature engg step\n",
    "*  multicollinearity exists between **oldbalanceOrg** and **newbalanceOrig** & **oldbalanceDest** and **newbalanceDest**"
   ]
  },
  {
   "cell_type": "markdown",
   "id": "wCpx7Vm3tWqx",
   "metadata": {
    "id": "wCpx7Vm3tWqx"
   },
   "source": [
    "# 3. Feature Engineering"
   ]
  },
  {
   "cell_type": "markdown",
   "id": "zE6uiY4xtl_7",
   "metadata": {
    "id": "zE6uiY4xtl_7"
   },
   "source": [
    "#### 1. Outlier Detection and Removal"
   ]
  },
  {
   "cell_type": "code",
   "execution_count": 12,
   "id": "fa9e3833",
   "metadata": {
    "colab": {
     "base_uri": "https://localhost:8080/",
     "height": 417
    },
    "id": "fa9e3833",
    "outputId": "88462c63-6789-48ce-eb56-344ed04012f6"
   },
   "outputs": [
    {
     "name": "stderr",
     "output_type": "stream",
     "text": [
      "C:\\ProgramData\\Anaconda3\\lib\\site-packages\\seaborn\\distributions.py:2619: FutureWarning: `distplot` is a deprecated function and will be removed in a future version. Please adapt your code to use either `displot` (a figure-level function with similar flexibility) or `histplot` (an axes-level function for histograms).\n",
      "  warnings.warn(msg, FutureWarning)\n"
     ]
    },
    {
     "data": {
      "text/plain": [
       "<AxesSubplot:xlabel='amount', ylabel='Density'>"
      ]
     },
     "execution_count": 12,
     "metadata": {},
     "output_type": "execute_result"
    },
    {
     "data": {
      "image/png": "[encoded data removed]",
      "text/plain": [
       "<Figure size 1152x360 with 1 Axes>"
      ]
     },
     "metadata": {
      "needs_background": "light"
     },
     "output_type": "display_data"
    }
   ],
   "source": [
    "# Checking with PDF distribution\n",
    "plt.figure(figsize=(16,5))\n",
    "sns.distplot(df['amount'])"
   ]
  },
  {
   "cell_type": "markdown",
   "id": "5aeb2015",
   "metadata": {
    "id": "5aeb2015"
   },
   "source": [
    "*  Highly skewed distribution found so going for IQR outlier detection & removal process"
   ]
  },
  {
   "cell_type": "code",
   "execution_count": 13,
   "id": "2e2e51ca",
   "metadata": {
    "colab": {
     "base_uri": "https://localhost:8080/",
     "height": 351
    },
    "id": "2e2e51ca",
    "outputId": "25060153-5e61-4fc2-f3a6-49dafeea72dd"
   },
   "outputs": [
    {
     "name": "stderr",
     "output_type": "stream",
     "text": [
      "C:\\ProgramData\\Anaconda3\\lib\\site-packages\\seaborn\\_decorators.py:36: FutureWarning: Pass the following variable as a keyword arg: x. From version 0.12, the only valid positional argument will be `data`, and passing other arguments without an explicit keyword will result in an error or misinterpretation.\n",
      "  warnings.warn(\n"
     ]
    },
    {
     "data": {
      "text/plain": [
       "<AxesSubplot:xlabel='amount'>"
      ]
     },
     "execution_count": 13,
     "metadata": {},
     "output_type": "execute_result"
    },
    {
     "data": {
      "image/png": "[encoded data removed]",
      "text/plain": [
       "<Figure size 432x288 with 1 Axes>"
      ]
     },
     "metadata": {
      "needs_background": "light"
     },
     "output_type": "display_data"
    }
   ],
   "source": [
    "# Checking with Boxplot \n",
    "sns.boxplot('amount',data=df)"
   ]
  },
  {
   "cell_type": "markdown",
   "id": "Y5TyV2ztuNix",
   "metadata": {
    "id": "Y5TyV2ztuNix"
   },
   "source": [
    "*  Large no of outliers detected so going for outlier removal using IQR method"
   ]
  },
  {
   "cell_type": "code",
   "execution_count": 14,
   "id": "35f0adca",
   "metadata": {
    "colab": {
     "base_uri": "https://localhost:8080/"
    },
    "id": "35f0adca",
    "outputId": "f588142e-2ff7-4514-9638-5f1e41ccc61c"
   },
   "outputs": [
    {
     "name": "stdout",
     "output_type": "stream",
     "text": [
      "upper limit 501719.33875\n",
      "lower limit -279608.29125\n"
     ]
    }
   ],
   "source": [
    "# Finding the IQR\n",
    "percentile25 = df['amount'].quantile(0.25)\n",
    "percentile75 = df['amount'].quantile(0.75)\n",
    "IQR = percentile75-percentile25\n",
    "upper_limit = percentile75 + 1.5*IQR\n",
    "lower_limit = percentile25 - 1.5*IQR\n",
    "print(\"upper limit\", upper_limit)\n",
    "print(\"lower limit\", lower_limit)"
   ]
  },
  {
   "cell_type": "code",
   "execution_count": 15,
   "id": "22089a5b",
   "metadata": {
    "colab": {
     "base_uri": "https://localhost:8080/",
     "height": 487
    },
    "id": "22089a5b",
    "outputId": "060fb8d9-56e4-4fd7-a925-45d83ab9fc40"
   },
   "outputs": [
    {
     "data": {
      "text/html": [
       "<div>\n",
       "<style scoped>\n",
       "    .dataframe tbody tr th:only-of-type {\n",
       "        vertical-align: middle;\n",
       "    }\n",
       "\n",
       "    .dataframe tbody tr th {\n",
       "        vertical-align: top;\n",
       "    }\n",
       "\n",
       "    .dataframe thead th {\n",
       "        text-align: right;\n",
       "    }\n",
       "</style>\n",
       "<table border=\"1\" class=\"dataframe\">\n",
       "  <thead>\n",
       "    <tr style=\"text-align: right;\">\n",
       "      <th></th>\n",
       "      <th>step</th>\n",
       "      <th>type</th>\n",
       "      <th>amount</th>\n",
       "      <th>nameOrig</th>\n",
       "      <th>oldbalanceOrg</th>\n",
       "      <th>newbalanceOrig</th>\n",
       "      <th>nameDest</th>\n",
       "      <th>oldbalanceDest</th>\n",
       "      <th>newbalanceDest</th>\n",
       "      <th>isFraud</th>\n",
       "      <th>isFlaggedFraud</th>\n",
       "    </tr>\n",
       "  </thead>\n",
       "  <tbody>\n",
       "    <tr>\n",
       "      <th>85</th>\n",
       "      <td>1</td>\n",
       "      <td>TRANSFER</td>\n",
       "      <td>1505626.01</td>\n",
       "      <td>C926859124</td>\n",
       "      <td>0.00</td>\n",
       "      <td>0.0</td>\n",
       "      <td>C665576141</td>\n",
       "      <td>29031.00</td>\n",
       "      <td>5515763.34</td>\n",
       "      <td>0</td>\n",
       "      <td>0</td>\n",
       "    </tr>\n",
       "    <tr>\n",
       "      <th>86</th>\n",
       "      <td>1</td>\n",
       "      <td>TRANSFER</td>\n",
       "      <td>554026.99</td>\n",
       "      <td>C1603696865</td>\n",
       "      <td>0.00</td>\n",
       "      <td>0.0</td>\n",
       "      <td>C766572210</td>\n",
       "      <td>579285.56</td>\n",
       "      <td>0.00</td>\n",
       "      <td>0</td>\n",
       "      <td>0</td>\n",
       "    </tr>\n",
       "    <tr>\n",
       "      <th>88</th>\n",
       "      <td>1</td>\n",
       "      <td>TRANSFER</td>\n",
       "      <td>761507.39</td>\n",
       "      <td>C412788346</td>\n",
       "      <td>0.00</td>\n",
       "      <td>0.0</td>\n",
       "      <td>C1590550415</td>\n",
       "      <td>1280036.23</td>\n",
       "      <td>19169204.93</td>\n",
       "      <td>0</td>\n",
       "      <td>0</td>\n",
       "    </tr>\n",
       "    <tr>\n",
       "      <th>89</th>\n",
       "      <td>1</td>\n",
       "      <td>TRANSFER</td>\n",
       "      <td>1429051.47</td>\n",
       "      <td>C1520267010</td>\n",
       "      <td>0.00</td>\n",
       "      <td>0.0</td>\n",
       "      <td>C1590550415</td>\n",
       "      <td>2041543.62</td>\n",
       "      <td>19169204.93</td>\n",
       "      <td>0</td>\n",
       "      <td>0</td>\n",
       "    </tr>\n",
       "    <tr>\n",
       "      <th>93</th>\n",
       "      <td>1</td>\n",
       "      <td>TRANSFER</td>\n",
       "      <td>583848.46</td>\n",
       "      <td>C1839168128</td>\n",
       "      <td>0.00</td>\n",
       "      <td>0.0</td>\n",
       "      <td>C1286084959</td>\n",
       "      <td>667778.00</td>\n",
       "      <td>2107778.11</td>\n",
       "      <td>0</td>\n",
       "      <td>0</td>\n",
       "    </tr>\n",
       "    <tr>\n",
       "      <th>...</th>\n",
       "      <td>...</td>\n",
       "      <td>...</td>\n",
       "      <td>...</td>\n",
       "      <td>...</td>\n",
       "      <td>...</td>\n",
       "      <td>...</td>\n",
       "      <td>...</td>\n",
       "      <td>...</td>\n",
       "      <td>...</td>\n",
       "      <td>...</td>\n",
       "      <td>...</td>\n",
       "    </tr>\n",
       "    <tr>\n",
       "      <th>6362613</th>\n",
       "      <td>743</td>\n",
       "      <td>CASH_OUT</td>\n",
       "      <td>1258818.82</td>\n",
       "      <td>C1436118706</td>\n",
       "      <td>1258818.82</td>\n",
       "      <td>0.0</td>\n",
       "      <td>C1240760502</td>\n",
       "      <td>503464.50</td>\n",
       "      <td>1762283.33</td>\n",
       "      <td>1</td>\n",
       "      <td>0</td>\n",
       "    </tr>\n",
       "    <tr>\n",
       "      <th>6362616</th>\n",
       "      <td>743</td>\n",
       "      <td>TRANSFER</td>\n",
       "      <td>6311409.28</td>\n",
       "      <td>C1529008245</td>\n",
       "      <td>6311409.28</td>\n",
       "      <td>0.0</td>\n",
       "      <td>C1881841831</td>\n",
       "      <td>0.00</td>\n",
       "      <td>0.00</td>\n",
       "      <td>1</td>\n",
       "      <td>0</td>\n",
       "    </tr>\n",
       "    <tr>\n",
       "      <th>6362617</th>\n",
       "      <td>743</td>\n",
       "      <td>CASH_OUT</td>\n",
       "      <td>6311409.28</td>\n",
       "      <td>C1162922333</td>\n",
       "      <td>6311409.28</td>\n",
       "      <td>0.0</td>\n",
       "      <td>C1365125890</td>\n",
       "      <td>68488.84</td>\n",
       "      <td>6379898.11</td>\n",
       "      <td>1</td>\n",
       "      <td>0</td>\n",
       "    </tr>\n",
       "    <tr>\n",
       "      <th>6362618</th>\n",
       "      <td>743</td>\n",
       "      <td>TRANSFER</td>\n",
       "      <td>850002.52</td>\n",
       "      <td>C1685995037</td>\n",
       "      <td>850002.52</td>\n",
       "      <td>0.0</td>\n",
       "      <td>C2080388513</td>\n",
       "      <td>0.00</td>\n",
       "      <td>0.00</td>\n",
       "      <td>1</td>\n",
       "      <td>0</td>\n",
       "    </tr>\n",
       "    <tr>\n",
       "      <th>6362619</th>\n",
       "      <td>743</td>\n",
       "      <td>CASH_OUT</td>\n",
       "      <td>850002.52</td>\n",
       "      <td>C1280323807</td>\n",
       "      <td>850002.52</td>\n",
       "      <td>0.0</td>\n",
       "      <td>C873221189</td>\n",
       "      <td>6510099.11</td>\n",
       "      <td>7360101.63</td>\n",
       "      <td>1</td>\n",
       "      <td>0</td>\n",
       "    </tr>\n",
       "  </tbody>\n",
       "</table>\n",
       "<p>338078 rows × 11 columns</p>\n",
       "</div>"
      ],
      "text/plain": [
       "         step      type      amount     nameOrig  oldbalanceOrg  \\\n",
       "85          1  TRANSFER  1505626.01   C926859124           0.00   \n",
       "86          1  TRANSFER   554026.99  C1603696865           0.00   \n",
       "88          1  TRANSFER   761507.39   C412788346           0.00   \n",
       "89          1  TRANSFER  1429051.47  C1520267010           0.00   \n",
       "93          1  TRANSFER   583848.46  C1839168128           0.00   \n",
       "...       ...       ...         ...          ...            ...   \n",
       "6362613   743  CASH_OUT  1258818.82  C1436118706     1258818.82   \n",
       "6362616   743  TRANSFER  6311409.28  C1529008245     6311409.28   \n",
       "6362617   743  CASH_OUT  6311409.28  C1162922333     6311409.28   \n",
       "6362618   743  TRANSFER   850002.52  C1685995037      850002.52   \n",
       "6362619   743  CASH_OUT   850002.52  C1280323807      850002.52   \n",
       "\n",
       "         newbalanceOrig     nameDest  oldbalanceDest  newbalanceDest  isFraud  \\\n",
       "85                  0.0   C665576141        29031.00      5515763.34        0   \n",
       "86                  0.0   C766572210       579285.56            0.00        0   \n",
       "88                  0.0  C1590550415      1280036.23     19169204.93        0   \n",
       "89                  0.0  C1590550415      2041543.62     19169204.93        0   \n",
       "93                  0.0  C1286084959       667778.00      2107778.11        0   \n",
       "...                 ...          ...             ...             ...      ...   \n",
       "6362613             0.0  C1240760502       503464.50      1762283.33        1   \n",
       "6362616             0.0  C1881841831            0.00            0.00        1   \n",
       "6362617             0.0  C1365125890        68488.84      6379898.11        1   \n",
       "6362618             0.0  C2080388513            0.00            0.00        1   \n",
       "6362619             0.0   C873221189      6510099.11      7360101.63        1   \n",
       "\n",
       "         isFlaggedFraud  \n",
       "85                    0  \n",
       "86                    0  \n",
       "88                    0  \n",
       "89                    0  \n",
       "93                    0  \n",
       "...                 ...  \n",
       "6362613               0  \n",
       "6362616               0  \n",
       "6362617               0  \n",
       "6362618               0  \n",
       "6362619               0  \n",
       "\n",
       "[338078 rows x 11 columns]"
      ]
     },
     "execution_count": 15,
     "metadata": {},
     "output_type": "execute_result"
    }
   ],
   "source": [
    "df[df['amount'] > upper_limit]\n"
   ]
  },
  {
   "cell_type": "markdown",
   "id": "WXTkzNiZvDKD",
   "metadata": {
    "id": "WXTkzNiZvDKD"
   },
   "source": [
    "*  These values are Outliers. Since we have significant amount of data so we will trim the outliers detected"
   ]
  },
  {
   "cell_type": "code",
   "execution_count": 16,
   "id": "e7d6b36f",
   "metadata": {
    "id": "e7d6b36f"
   },
   "outputs": [],
   "source": [
    "new_df = df[df['amount'] < upper_limit]"
   ]
  },
  {
   "cell_type": "code",
   "execution_count": 17,
   "id": "528ee5b7",
   "metadata": {
    "colab": {
     "base_uri": "https://localhost:8080/"
    },
    "id": "528ee5b7",
    "outputId": "13f2f068-d082-429c-b31d-845ce552d84d"
   },
   "outputs": [
    {
     "data": {
      "text/plain": [
       "(6024542, 11)"
      ]
     },
     "execution_count": 17,
     "metadata": {},
     "output_type": "execute_result"
    }
   ],
   "source": [
    "new_df.shape"
   ]
  },
  {
   "cell_type": "code",
   "execution_count": 18,
   "id": "2e7ef4a1",
   "metadata": {
    "colab": {
     "base_uri": "https://localhost:8080/",
     "height": 351
    },
    "id": "2e7ef4a1",
    "outputId": "84616c15-99ec-496c-887a-5534d5176831"
   },
   "outputs": [
    {
     "name": "stderr",
     "output_type": "stream",
     "text": [
      "C:\\ProgramData\\Anaconda3\\lib\\site-packages\\seaborn\\_decorators.py:36: FutureWarning: Pass the following variable as a keyword arg: x. From version 0.12, the only valid positional argument will be `data`, and passing other arguments without an explicit keyword will result in an error or misinterpretation.\n",
      "  warnings.warn(\n"
     ]
    },
    {
     "data": {
      "text/plain": [
       "<AxesSubplot:xlabel='amount'>"
      ]
     },
     "execution_count": 18,
     "metadata": {},
     "output_type": "execute_result"
    },
    {
     "data": {
      "image/png": "[encoded data removed]",
      "text/plain": [
       "<Figure size 432x288 with 1 Axes>"
      ]
     },
     "metadata": {
      "needs_background": "light"
     },
     "output_type": "display_data"
    }
   ],
   "source": [
    "# Again Checking with Boxplot\n",
    "sns.boxplot(new_df['amount'])"
   ]
  },
  {
   "cell_type": "markdown",
   "id": "SRL-9RH9v6IR",
   "metadata": {
    "id": "SRL-9RH9v6IR"
   },
   "source": [
    "*  Now the outliers are being removed from our dataset"
   ]
  },
  {
   "cell_type": "markdown",
   "id": "626d1d63",
   "metadata": {
    "id": "626d1d63"
   },
   "source": [
    "#### 2. Checking for multicollinearity"
   ]
  },
  {
   "cell_type": "code",
   "execution_count": 19,
   "id": "25e0c789",
   "metadata": {
    "id": "25e0c789"
   },
   "outputs": [],
   "source": [
    "# Function for calculating Variance Inflation Factor\n",
    "def calculate_vif(dataset):\n",
    "    vif = pd.DataFrame()\n",
    "    vif['features'] = dataset.columns\n",
    "    vif['VIF_Value'] = [variance_inflation_factor(dataset.values,i) for i in range(dataset.shape[1])]\n",
    "    return (vif)"
   ]
  },
  {
   "cell_type": "code",
   "execution_count": 20,
   "id": "be24f00a",
   "metadata": {
    "colab": {
     "base_uri": "https://localhost:8080/",
     "height": 300
    },
    "id": "be24f00a",
    "outputId": "d0e73ac6-a55d-403f-c609-5563054d2170"
   },
   "outputs": [
    {
     "data": {
      "text/html": [
       "<div>\n",
       "<style scoped>\n",
       "    .dataframe tbody tr th:only-of-type {\n",
       "        vertical-align: middle;\n",
       "    }\n",
       "\n",
       "    .dataframe tbody tr th {\n",
       "        vertical-align: top;\n",
       "    }\n",
       "\n",
       "    .dataframe thead th {\n",
       "        text-align: right;\n",
       "    }\n",
       "</style>\n",
       "<table border=\"1\" class=\"dataframe\">\n",
       "  <thead>\n",
       "    <tr style=\"text-align: right;\">\n",
       "      <th></th>\n",
       "      <th>features</th>\n",
       "      <th>VIF_Value</th>\n",
       "    </tr>\n",
       "  </thead>\n",
       "  <tbody>\n",
       "    <tr>\n",
       "      <th>0</th>\n",
       "      <td>step</td>\n",
       "      <td>1.562840</td>\n",
       "    </tr>\n",
       "    <tr>\n",
       "      <th>1</th>\n",
       "      <td>amount</td>\n",
       "      <td>2.244722</td>\n",
       "    </tr>\n",
       "    <tr>\n",
       "      <th>2</th>\n",
       "      <td>oldbalanceOrg</td>\n",
       "      <td>1606.453870</td>\n",
       "    </tr>\n",
       "    <tr>\n",
       "      <th>3</th>\n",
       "      <td>newbalanceOrig</td>\n",
       "      <td>1625.437648</td>\n",
       "    </tr>\n",
       "    <tr>\n",
       "      <th>4</th>\n",
       "      <td>oldbalanceDest</td>\n",
       "      <td>231.599150</td>\n",
       "    </tr>\n",
       "    <tr>\n",
       "      <th>5</th>\n",
       "      <td>newbalanceDest</td>\n",
       "      <td>234.878078</td>\n",
       "    </tr>\n",
       "    <tr>\n",
       "      <th>6</th>\n",
       "      <td>isFlaggedFraud</td>\n",
       "      <td>1.000461</td>\n",
       "    </tr>\n",
       "    <tr>\n",
       "      <th>7</th>\n",
       "      <td>isFraud</td>\n",
       "      <td>1.006938</td>\n",
       "    </tr>\n",
       "  </tbody>\n",
       "</table>\n",
       "</div>"
      ],
      "text/plain": [
       "         features    VIF_Value\n",
       "0            step     1.562840\n",
       "1          amount     2.244722\n",
       "2   oldbalanceOrg  1606.453870\n",
       "3  newbalanceOrig  1625.437648\n",
       "4  oldbalanceDest   231.599150\n",
       "5  newbalanceDest   234.878078\n",
       "6  isFlaggedFraud     1.000461\n",
       "7         isFraud     1.006938"
      ]
     },
     "execution_count": 20,
     "metadata": {},
     "output_type": "execute_result"
    }
   ],
   "source": [
    "features=new_df[['step', 'amount', 'oldbalanceOrg', 'newbalanceOrig', 'oldbalanceDest', 'newbalanceDest', 'isFlaggedFraud','isFraud']]\n",
    "features\n",
    "calculate_vif(features)"
   ]
  },
  {
   "cell_type": "markdown",
   "id": "TfNu8MXYwdPe",
   "metadata": {
    "id": "TfNu8MXYwdPe"
   },
   "source": [
    "*  Collinearity detected among 4 features so checking with heatmap for feature removal"
   ]
  },
  {
   "cell_type": "code",
   "execution_count": 21,
   "id": "4717a861",
   "metadata": {
    "colab": {
     "base_uri": "https://localhost:8080/",
     "height": 395
    },
    "id": "4717a861",
    "outputId": "49cb1ad8-06d3-4fd4-af0c-4ef10a6daaca"
   },
   "outputs": [
    {
     "data": {
      "text/plain": [
       "<AxesSubplot:>"
      ]
     },
     "execution_count": 21,
     "metadata": {},
     "output_type": "execute_result"
    },
    {
     "data": {
      "image/png": "[encoded data removed]",
      "text/plain": [
       "<Figure size 1080x432 with 2 Axes>"
      ]
     },
     "metadata": {
      "needs_background": "light"
     },
     "output_type": "display_data"
    }
   ],
   "source": [
    "corr_mat = new_df.corr()\n",
    "plt.figure(figsize=(15,6))\n",
    "sns.heatmap(corr_mat,annot = True)"
   ]
  },
  {
   "cell_type": "markdown",
   "id": "47cc90dd",
   "metadata": {
    "id": "47cc90dd"
   },
   "source": [
    "*  Here we will drop **newbalanceOrig** & **oldbalanceDest** since it has lesser correlation with the Label "
   ]
  },
  {
   "cell_type": "code",
   "execution_count": 22,
   "id": "23601b3d",
   "metadata": {
    "colab": {
     "base_uri": "https://localhost:8080/",
     "height": 324
    },
    "id": "23601b3d",
    "outputId": "3ce5ac33-c03b-4527-d20b-dc8e5fb8fd00"
   },
   "outputs": [
    {
     "name": "stderr",
     "output_type": "stream",
     "text": [
      "C:\\Users\\Jaunel\\AppData\\Local\\Temp\\ipykernel_21616\\3041615373.py:1: SettingWithCopyWarning: \n",
      "A value is trying to be set on a copy of a slice from a DataFrame\n",
      "\n",
      "See the caveats in the documentation: https://pandas.pydata.org/pandas-docs/stable/user_guide/indexing.html#returning-a-view-versus-a-copy\n",
      "  features.drop(columns=['newbalanceOrig','oldbalanceDest'],inplace=True)\n"
     ]
    },
    {
     "data": {
      "text/html": [
       "<div>\n",
       "<style scoped>\n",
       "    .dataframe tbody tr th:only-of-type {\n",
       "        vertical-align: middle;\n",
       "    }\n",
       "\n",
       "    .dataframe tbody tr th {\n",
       "        vertical-align: top;\n",
       "    }\n",
       "\n",
       "    .dataframe thead th {\n",
       "        text-align: right;\n",
       "    }\n",
       "</style>\n",
       "<table border=\"1\" class=\"dataframe\">\n",
       "  <thead>\n",
       "    <tr style=\"text-align: right;\">\n",
       "      <th></th>\n",
       "      <th>features</th>\n",
       "      <th>VIF_Value</th>\n",
       "    </tr>\n",
       "  </thead>\n",
       "  <tbody>\n",
       "    <tr>\n",
       "      <th>0</th>\n",
       "      <td>step</td>\n",
       "      <td>1.548638</td>\n",
       "    </tr>\n",
       "    <tr>\n",
       "      <th>1</th>\n",
       "      <td>amount</td>\n",
       "      <td>1.641109</td>\n",
       "    </tr>\n",
       "    <tr>\n",
       "      <th>2</th>\n",
       "      <td>oldbalanceOrg</td>\n",
       "      <td>1.087425</td>\n",
       "    </tr>\n",
       "    <tr>\n",
       "      <th>3</th>\n",
       "      <td>newbalanceDest</td>\n",
       "      <td>1.163829</td>\n",
       "    </tr>\n",
       "    <tr>\n",
       "      <th>4</th>\n",
       "      <td>isFlaggedFraud</td>\n",
       "      <td>1.000460</td>\n",
       "    </tr>\n",
       "    <tr>\n",
       "      <th>5</th>\n",
       "      <td>isFraud</td>\n",
       "      <td>1.001899</td>\n",
       "    </tr>\n",
       "  </tbody>\n",
       "</table>\n",
       "</div>"
      ],
      "text/plain": [
       "         features  VIF_Value\n",
       "0            step   1.548638\n",
       "1          amount   1.641109\n",
       "2   oldbalanceOrg   1.087425\n",
       "3  newbalanceDest   1.163829\n",
       "4  isFlaggedFraud   1.000460\n",
       "5         isFraud   1.001899"
      ]
     },
     "execution_count": 22,
     "metadata": {},
     "output_type": "execute_result"
    }
   ],
   "source": [
    "features.drop(columns=['newbalanceOrig','oldbalanceDest'],inplace=True)\n",
    "features\n",
    "calculate_vif(features)"
   ]
  },
  {
   "cell_type": "markdown",
   "id": "l5jM9tiv5MTN",
   "metadata": {
    "id": "l5jM9tiv5MTN"
   },
   "source": [
    "*  Now, no Collinearity found among the features. So We will proceed with above features only"
   ]
  },
  {
   "cell_type": "code",
   "execution_count": 23,
   "id": "229f0040",
   "metadata": {
    "colab": {
     "base_uri": "https://localhost:8080/",
     "height": 112
    },
    "id": "229f0040",
    "outputId": "6ae48d32-b962-42eb-993c-86ecced2e9bb"
   },
   "outputs": [
    {
     "data": {
      "text/html": [
       "<div>\n",
       "<style scoped>\n",
       "    .dataframe tbody tr th:only-of-type {\n",
       "        vertical-align: middle;\n",
       "    }\n",
       "\n",
       "    .dataframe tbody tr th {\n",
       "        vertical-align: top;\n",
       "    }\n",
       "\n",
       "    .dataframe thead th {\n",
       "        text-align: right;\n",
       "    }\n",
       "</style>\n",
       "<table border=\"1\" class=\"dataframe\">\n",
       "  <thead>\n",
       "    <tr style=\"text-align: right;\">\n",
       "      <th></th>\n",
       "      <th>step</th>\n",
       "      <th>type</th>\n",
       "      <th>amount</th>\n",
       "      <th>nameOrig</th>\n",
       "      <th>oldbalanceOrg</th>\n",
       "      <th>newbalanceOrig</th>\n",
       "      <th>nameDest</th>\n",
       "      <th>oldbalanceDest</th>\n",
       "      <th>newbalanceDest</th>\n",
       "      <th>isFraud</th>\n",
       "      <th>isFlaggedFraud</th>\n",
       "    </tr>\n",
       "  </thead>\n",
       "  <tbody>\n",
       "    <tr>\n",
       "      <th>0</th>\n",
       "      <td>1</td>\n",
       "      <td>PAYMENT</td>\n",
       "      <td>9839.64</td>\n",
       "      <td>C1231006815</td>\n",
       "      <td>170136.0</td>\n",
       "      <td>160296.36</td>\n",
       "      <td>M1979787155</td>\n",
       "      <td>0.0</td>\n",
       "      <td>0.0</td>\n",
       "      <td>0</td>\n",
       "      <td>0</td>\n",
       "    </tr>\n",
       "    <tr>\n",
       "      <th>1</th>\n",
       "      <td>1</td>\n",
       "      <td>PAYMENT</td>\n",
       "      <td>1864.28</td>\n",
       "      <td>C1666544295</td>\n",
       "      <td>21249.0</td>\n",
       "      <td>19384.72</td>\n",
       "      <td>M2044282225</td>\n",
       "      <td>0.0</td>\n",
       "      <td>0.0</td>\n",
       "      <td>0</td>\n",
       "      <td>0</td>\n",
       "    </tr>\n",
       "  </tbody>\n",
       "</table>\n",
       "</div>"
      ],
      "text/plain": [
       "   step     type   amount     nameOrig  oldbalanceOrg  newbalanceOrig  \\\n",
       "0     1  PAYMENT  9839.64  C1231006815       170136.0       160296.36   \n",
       "1     1  PAYMENT  1864.28  C1666544295        21249.0        19384.72   \n",
       "\n",
       "      nameDest  oldbalanceDest  newbalanceDest  isFraud  isFlaggedFraud  \n",
       "0  M1979787155             0.0             0.0        0               0  \n",
       "1  M2044282225             0.0             0.0        0               0  "
      ]
     },
     "execution_count": 23,
     "metadata": {},
     "output_type": "execute_result"
    }
   ],
   "source": [
    "new_df.head(2)"
   ]
  },
  {
   "cell_type": "code",
   "execution_count": 24,
   "id": "03e7c80b",
   "metadata": {
    "colab": {
     "base_uri": "https://localhost:8080/",
     "height": 510
    },
    "id": "03e7c80b",
    "outputId": "f97ca379-9b6e-48a8-97ef-63c80a1c7ecc"
   },
   "outputs": [
    {
     "name": "stderr",
     "output_type": "stream",
     "text": [
      "C:\\Users\\Jaunel\\AppData\\Local\\Temp\\ipykernel_21616\\383062270.py:1: SettingWithCopyWarning: \n",
      "A value is trying to be set on a copy of a slice from a DataFrame\n",
      "\n",
      "See the caveats in the documentation: https://pandas.pydata.org/pandas-docs/stable/user_guide/indexing.html#returning-a-view-versus-a-copy\n",
      "  new_df.drop(columns=['newbalanceOrig','oldbalanceDest','nameOrig','nameDest'],inplace=True)\n"
     ]
    },
    {
     "data": {
      "text/html": [
       "<div>\n",
       "<style scoped>\n",
       "    .dataframe tbody tr th:only-of-type {\n",
       "        vertical-align: middle;\n",
       "    }\n",
       "\n",
       "    .dataframe tbody tr th {\n",
       "        vertical-align: top;\n",
       "    }\n",
       "\n",
       "    .dataframe thead th {\n",
       "        text-align: right;\n",
       "    }\n",
       "</style>\n",
       "<table border=\"1\" class=\"dataframe\">\n",
       "  <thead>\n",
       "    <tr style=\"text-align: right;\">\n",
       "      <th></th>\n",
       "      <th>step</th>\n",
       "      <th>type</th>\n",
       "      <th>amount</th>\n",
       "      <th>oldbalanceOrg</th>\n",
       "      <th>newbalanceDest</th>\n",
       "      <th>isFraud</th>\n",
       "      <th>isFlaggedFraud</th>\n",
       "    </tr>\n",
       "  </thead>\n",
       "  <tbody>\n",
       "    <tr>\n",
       "      <th>0</th>\n",
       "      <td>1</td>\n",
       "      <td>PAYMENT</td>\n",
       "      <td>9839.64</td>\n",
       "      <td>170136.00</td>\n",
       "      <td>0.00</td>\n",
       "      <td>0</td>\n",
       "      <td>0</td>\n",
       "    </tr>\n",
       "    <tr>\n",
       "      <th>1</th>\n",
       "      <td>1</td>\n",
       "      <td>PAYMENT</td>\n",
       "      <td>1864.28</td>\n",
       "      <td>21249.00</td>\n",
       "      <td>0.00</td>\n",
       "      <td>0</td>\n",
       "      <td>0</td>\n",
       "    </tr>\n",
       "    <tr>\n",
       "      <th>2</th>\n",
       "      <td>1</td>\n",
       "      <td>TRANSFER</td>\n",
       "      <td>181.00</td>\n",
       "      <td>181.00</td>\n",
       "      <td>0.00</td>\n",
       "      <td>1</td>\n",
       "      <td>0</td>\n",
       "    </tr>\n",
       "    <tr>\n",
       "      <th>3</th>\n",
       "      <td>1</td>\n",
       "      <td>CASH_OUT</td>\n",
       "      <td>181.00</td>\n",
       "      <td>181.00</td>\n",
       "      <td>0.00</td>\n",
       "      <td>1</td>\n",
       "      <td>0</td>\n",
       "    </tr>\n",
       "    <tr>\n",
       "      <th>4</th>\n",
       "      <td>1</td>\n",
       "      <td>PAYMENT</td>\n",
       "      <td>11668.14</td>\n",
       "      <td>41554.00</td>\n",
       "      <td>0.00</td>\n",
       "      <td>0</td>\n",
       "      <td>0</td>\n",
       "    </tr>\n",
       "    <tr>\n",
       "      <th>...</th>\n",
       "      <td>...</td>\n",
       "      <td>...</td>\n",
       "      <td>...</td>\n",
       "      <td>...</td>\n",
       "      <td>...</td>\n",
       "      <td>...</td>\n",
       "      <td>...</td>\n",
       "    </tr>\n",
       "    <tr>\n",
       "      <th>6362609</th>\n",
       "      <td>742</td>\n",
       "      <td>CASH_OUT</td>\n",
       "      <td>258355.42</td>\n",
       "      <td>258355.42</td>\n",
       "      <td>283532.09</td>\n",
       "      <td>1</td>\n",
       "      <td>0</td>\n",
       "    </tr>\n",
       "    <tr>\n",
       "      <th>6362610</th>\n",
       "      <td>742</td>\n",
       "      <td>TRANSFER</td>\n",
       "      <td>63416.99</td>\n",
       "      <td>63416.99</td>\n",
       "      <td>0.00</td>\n",
       "      <td>1</td>\n",
       "      <td>0</td>\n",
       "    </tr>\n",
       "    <tr>\n",
       "      <th>6362611</th>\n",
       "      <td>742</td>\n",
       "      <td>CASH_OUT</td>\n",
       "      <td>63416.99</td>\n",
       "      <td>63416.99</td>\n",
       "      <td>339850.17</td>\n",
       "      <td>1</td>\n",
       "      <td>0</td>\n",
       "    </tr>\n",
       "    <tr>\n",
       "      <th>6362614</th>\n",
       "      <td>743</td>\n",
       "      <td>TRANSFER</td>\n",
       "      <td>339682.13</td>\n",
       "      <td>339682.13</td>\n",
       "      <td>0.00</td>\n",
       "      <td>1</td>\n",
       "      <td>0</td>\n",
       "    </tr>\n",
       "    <tr>\n",
       "      <th>6362615</th>\n",
       "      <td>743</td>\n",
       "      <td>CASH_OUT</td>\n",
       "      <td>339682.13</td>\n",
       "      <td>339682.13</td>\n",
       "      <td>339682.13</td>\n",
       "      <td>1</td>\n",
       "      <td>0</td>\n",
       "    </tr>\n",
       "  </tbody>\n",
       "</table>\n",
       "<p>6024542 rows × 7 columns</p>\n",
       "</div>"
      ],
      "text/plain": [
       "         step      type     amount  oldbalanceOrg  newbalanceDest  isFraud  \\\n",
       "0           1   PAYMENT    9839.64      170136.00            0.00        0   \n",
       "1           1   PAYMENT    1864.28       21249.00            0.00        0   \n",
       "2           1  TRANSFER     181.00         181.00            0.00        1   \n",
       "3           1  CASH_OUT     181.00         181.00            0.00        1   \n",
       "4           1   PAYMENT   11668.14       41554.00            0.00        0   \n",
       "...       ...       ...        ...            ...             ...      ...   \n",
       "6362609   742  CASH_OUT  258355.42      258355.42       283532.09        1   \n",
       "6362610   742  TRANSFER   63416.99       63416.99            0.00        1   \n",
       "6362611   742  CASH_OUT   63416.99       63416.99       339850.17        1   \n",
       "6362614   743  TRANSFER  339682.13      339682.13            0.00        1   \n",
       "6362615   743  CASH_OUT  339682.13      339682.13       339682.13        1   \n",
       "\n",
       "         isFlaggedFraud  \n",
       "0                     0  \n",
       "1                     0  \n",
       "2                     0  \n",
       "3                     0  \n",
       "4                     0  \n",
       "...                 ...  \n",
       "6362609               0  \n",
       "6362610               0  \n",
       "6362611               0  \n",
       "6362614               0  \n",
       "6362615               0  \n",
       "\n",
       "[6024542 rows x 7 columns]"
      ]
     },
     "execution_count": 24,
     "metadata": {},
     "output_type": "execute_result"
    }
   ],
   "source": [
    "new_df.drop(columns=['newbalanceOrig','oldbalanceDest','nameOrig','nameDest'],inplace=True)\n",
    "new_df"
   ]
  },
  {
   "cell_type": "markdown",
   "id": "9909c08e",
   "metadata": {
    "id": "9909c08e"
   },
   "source": [
    "#### 3.One Hot Encoding with Categorical feature"
   ]
  },
  {
   "cell_type": "code",
   "execution_count": 25,
   "id": "49ad8b0d",
   "metadata": {
    "id": "49ad8b0d"
   },
   "outputs": [],
   "source": [
    "new_df = pd.get_dummies(new_df,columns=['type'],drop_first=True)"
   ]
  },
  {
   "cell_type": "code",
   "execution_count": 26,
   "id": "b1dfc72c",
   "metadata": {
    "colab": {
     "base_uri": "https://localhost:8080/",
     "height": 423
    },
    "id": "b1dfc72c",
    "outputId": "4a1134cf-c6dc-43af-fc45-d4c76172457a"
   },
   "outputs": [
    {
     "data": {
      "text/html": [
       "<div>\n",
       "<style scoped>\n",
       "    .dataframe tbody tr th:only-of-type {\n",
       "        vertical-align: middle;\n",
       "    }\n",
       "\n",
       "    .dataframe tbody tr th {\n",
       "        vertical-align: top;\n",
       "    }\n",
       "\n",
       "    .dataframe thead th {\n",
       "        text-align: right;\n",
       "    }\n",
       "</style>\n",
       "<table border=\"1\" class=\"dataframe\">\n",
       "  <thead>\n",
       "    <tr style=\"text-align: right;\">\n",
       "      <th></th>\n",
       "      <th>step</th>\n",
       "      <th>amount</th>\n",
       "      <th>oldbalanceOrg</th>\n",
       "      <th>newbalanceDest</th>\n",
       "      <th>isFraud</th>\n",
       "      <th>isFlaggedFraud</th>\n",
       "      <th>type_CASH_OUT</th>\n",
       "      <th>type_DEBIT</th>\n",
       "      <th>type_PAYMENT</th>\n",
       "      <th>type_TRANSFER</th>\n",
       "    </tr>\n",
       "  </thead>\n",
       "  <tbody>\n",
       "    <tr>\n",
       "      <th>0</th>\n",
       "      <td>1</td>\n",
       "      <td>9839.64</td>\n",
       "      <td>170136.00</td>\n",
       "      <td>0.00</td>\n",
       "      <td>0</td>\n",
       "      <td>0</td>\n",
       "      <td>0</td>\n",
       "      <td>0</td>\n",
       "      <td>1</td>\n",
       "      <td>0</td>\n",
       "    </tr>\n",
       "    <tr>\n",
       "      <th>1</th>\n",
       "      <td>1</td>\n",
       "      <td>1864.28</td>\n",
       "      <td>21249.00</td>\n",
       "      <td>0.00</td>\n",
       "      <td>0</td>\n",
       "      <td>0</td>\n",
       "      <td>0</td>\n",
       "      <td>0</td>\n",
       "      <td>1</td>\n",
       "      <td>0</td>\n",
       "    </tr>\n",
       "    <tr>\n",
       "      <th>2</th>\n",
       "      <td>1</td>\n",
       "      <td>181.00</td>\n",
       "      <td>181.00</td>\n",
       "      <td>0.00</td>\n",
       "      <td>1</td>\n",
       "      <td>0</td>\n",
       "      <td>0</td>\n",
       "      <td>0</td>\n",
       "      <td>0</td>\n",
       "      <td>1</td>\n",
       "    </tr>\n",
       "    <tr>\n",
       "      <th>3</th>\n",
       "      <td>1</td>\n",
       "      <td>181.00</td>\n",
       "      <td>181.00</td>\n",
       "      <td>0.00</td>\n",
       "      <td>1</td>\n",
       "      <td>0</td>\n",
       "      <td>1</td>\n",
       "      <td>0</td>\n",
       "      <td>0</td>\n",
       "      <td>0</td>\n",
       "    </tr>\n",
       "    <tr>\n",
       "      <th>4</th>\n",
       "      <td>1</td>\n",
       "      <td>11668.14</td>\n",
       "      <td>41554.00</td>\n",
       "      <td>0.00</td>\n",
       "      <td>0</td>\n",
       "      <td>0</td>\n",
       "      <td>0</td>\n",
       "      <td>0</td>\n",
       "      <td>1</td>\n",
       "      <td>0</td>\n",
       "    </tr>\n",
       "    <tr>\n",
       "      <th>...</th>\n",
       "      <td>...</td>\n",
       "      <td>...</td>\n",
       "      <td>...</td>\n",
       "      <td>...</td>\n",
       "      <td>...</td>\n",
       "      <td>...</td>\n",
       "      <td>...</td>\n",
       "      <td>...</td>\n",
       "      <td>...</td>\n",
       "      <td>...</td>\n",
       "    </tr>\n",
       "    <tr>\n",
       "      <th>6362609</th>\n",
       "      <td>742</td>\n",
       "      <td>258355.42</td>\n",
       "      <td>258355.42</td>\n",
       "      <td>283532.09</td>\n",
       "      <td>1</td>\n",
       "      <td>0</td>\n",
       "      <td>1</td>\n",
       "      <td>0</td>\n",
       "      <td>0</td>\n",
       "      <td>0</td>\n",
       "    </tr>\n",
       "    <tr>\n",
       "      <th>6362610</th>\n",
       "      <td>742</td>\n",
       "      <td>63416.99</td>\n",
       "      <td>63416.99</td>\n",
       "      <td>0.00</td>\n",
       "      <td>1</td>\n",
       "      <td>0</td>\n",
       "      <td>0</td>\n",
       "      <td>0</td>\n",
       "      <td>0</td>\n",
       "      <td>1</td>\n",
       "    </tr>\n",
       "    <tr>\n",
       "      <th>6362611</th>\n",
       "      <td>742</td>\n",
       "      <td>63416.99</td>\n",
       "      <td>63416.99</td>\n",
       "      <td>339850.17</td>\n",
       "      <td>1</td>\n",
       "      <td>0</td>\n",
       "      <td>1</td>\n",
       "      <td>0</td>\n",
       "      <td>0</td>\n",
       "      <td>0</td>\n",
       "    </tr>\n",
       "    <tr>\n",
       "      <th>6362614</th>\n",
       "      <td>743</td>\n",
       "      <td>339682.13</td>\n",
       "      <td>339682.13</td>\n",
       "      <td>0.00</td>\n",
       "      <td>1</td>\n",
       "      <td>0</td>\n",
       "      <td>0</td>\n",
       "      <td>0</td>\n",
       "      <td>0</td>\n",
       "      <td>1</td>\n",
       "    </tr>\n",
       "    <tr>\n",
       "      <th>6362615</th>\n",
       "      <td>743</td>\n",
       "      <td>339682.13</td>\n",
       "      <td>339682.13</td>\n",
       "      <td>339682.13</td>\n",
       "      <td>1</td>\n",
       "      <td>0</td>\n",
       "      <td>1</td>\n",
       "      <td>0</td>\n",
       "      <td>0</td>\n",
       "      <td>0</td>\n",
       "    </tr>\n",
       "  </tbody>\n",
       "</table>\n",
       "<p>6024542 rows × 10 columns</p>\n",
       "</div>"
      ],
      "text/plain": [
       "         step     amount  oldbalanceOrg  newbalanceDest  isFraud  \\\n",
       "0           1    9839.64      170136.00            0.00        0   \n",
       "1           1    1864.28       21249.00            0.00        0   \n",
       "2           1     181.00         181.00            0.00        1   \n",
       "3           1     181.00         181.00            0.00        1   \n",
       "4           1   11668.14       41554.00            0.00        0   \n",
       "...       ...        ...            ...             ...      ...   \n",
       "6362609   742  258355.42      258355.42       283532.09        1   \n",
       "6362610   742   63416.99       63416.99            0.00        1   \n",
       "6362611   742   63416.99       63416.99       339850.17        1   \n",
       "6362614   743  339682.13      339682.13            0.00        1   \n",
       "6362615   743  339682.13      339682.13       339682.13        1   \n",
       "\n",
       "         isFlaggedFraud  type_CASH_OUT  type_DEBIT  type_PAYMENT  \\\n",
       "0                     0              0           0             1   \n",
       "1                     0              0           0             1   \n",
       "2                     0              0           0             0   \n",
       "3                     0              1           0             0   \n",
       "4                     0              0           0             1   \n",
       "...                 ...            ...         ...           ...   \n",
       "6362609               0              1           0             0   \n",
       "6362610               0              0           0             0   \n",
       "6362611               0              1           0             0   \n",
       "6362614               0              0           0             0   \n",
       "6362615               0              1           0             0   \n",
       "\n",
       "         type_TRANSFER  \n",
       "0                    0  \n",
       "1                    0  \n",
       "2                    1  \n",
       "3                    0  \n",
       "4                    0  \n",
       "...                ...  \n",
       "6362609              0  \n",
       "6362610              1  \n",
       "6362611              0  \n",
       "6362614              1  \n",
       "6362615              0  \n",
       "\n",
       "[6024542 rows x 10 columns]"
      ]
     },
     "execution_count": 26,
     "metadata": {},
     "output_type": "execute_result"
    }
   ],
   "source": [
    "new_df"
   ]
  },
  {
   "cell_type": "markdown",
   "id": "3b0e3210",
   "metadata": {
    "id": "3b0e3210"
   },
   "source": [
    "# 4. Data Splitting"
   ]
  },
  {
   "cell_type": "markdown",
   "id": "31161b93",
   "metadata": {
    "id": "31161b93"
   },
   "source": [
    "#### 1.Splitting the dataset into feature and Label"
   ]
  },
  {
   "cell_type": "code",
   "execution_count": 27,
   "id": "625d8da4",
   "metadata": {
    "id": "625d8da4"
   },
   "outputs": [],
   "source": [
    "x=new_df.drop(['isFraud'],axis=1)\n",
    "y=new_df['isFraud']"
   ]
  },
  {
   "cell_type": "markdown",
   "id": "bc556db0",
   "metadata": {
    "id": "bc556db0"
   },
   "source": [
    "#### 2. Standardization"
   ]
  },
  {
   "cell_type": "code",
   "execution_count": 28,
   "id": "3c1aa8f2",
   "metadata": {
    "id": "3c1aa8f2"
   },
   "outputs": [],
   "source": [
    "from sklearn.preprocessing import StandardScaler\n",
    "sc=StandardScaler()\n",
    "x=sc.fit_transform(x)"
   ]
  },
  {
   "cell_type": "code",
   "execution_count": 29,
   "id": "2xYYcx25RP1f",
   "metadata": {
    "colab": {
     "base_uri": "https://localhost:8080/"
    },
    "id": "2xYYcx25RP1f",
    "outputId": "3f50fcfd-e06a-4b24-b966-bfab82f497d8"
   },
   "outputs": [
    {
     "data": {
      "text/plain": [
       "0    6020183\n",
       "1       4359\n",
       "Name: isFraud, dtype: int64"
      ]
     },
     "execution_count": 29,
     "metadata": {},
     "output_type": "execute_result"
    }
   ],
   "source": [
    "y.value_counts()"
   ]
  },
  {
   "cell_type": "markdown",
   "id": "H6GK1Qs3zfJM",
   "metadata": {
    "id": "H6GK1Qs3zfJM"
   },
   "source": [
    "*  Highly imbalanced dataset found"
   ]
  },
  {
   "cell_type": "markdown",
   "id": "75504685",
   "metadata": {
    "id": "75504685"
   },
   "source": [
    "#### 3.Splitting the dataset into train & test data with stratified sampling"
   ]
  },
  {
   "cell_type": "code",
   "execution_count": 30,
   "id": "7ab09901",
   "metadata": {
    "id": "7ab09901"
   },
   "outputs": [],
   "source": [
    "from sklearn.model_selection import train_test_split\n",
    "x_train,x_test,y_train,y_test = train_test_split(x,y,test_size=0.2,random_state=1,stratify=y)"
   ]
  },
  {
   "cell_type": "code",
   "execution_count": 31,
   "id": "3c778533",
   "metadata": {
    "colab": {
     "base_uri": "https://localhost:8080/"
    },
    "id": "3c778533",
    "outputId": "18ba1041-1bc5-476f-805f-9a6c8b2915d1"
   },
   "outputs": [
    {
     "data": {
      "text/plain": [
       "0    99.92765\n",
       "1     0.07235\n",
       "Name: isFraud, dtype: float64"
      ]
     },
     "execution_count": 31,
     "metadata": {},
     "output_type": "execute_result"
    }
   ],
   "source": [
    "y_train.value_counts(normalize=True)*100"
   ]
  },
  {
   "cell_type": "markdown",
   "id": "hsgn-Dco0O8h",
   "metadata": {
    "id": "hsgn-Dco0O8h"
   },
   "source": [
    "#### 4.OverSampling the train data "
   ]
  },
  {
   "cell_type": "code",
   "execution_count": 32,
   "id": "Nm-QXFA4ABGH",
   "metadata": {
    "id": "Nm-QXFA4ABGH"
   },
   "outputs": [],
   "source": [
    "os = RandomOverSampler()\n",
    "x_train_res, y_train_res = os.fit_resample(x_train,y_train)"
   ]
  },
  {
   "cell_type": "code",
   "execution_count": 33,
   "id": "3ywqfwl3ABUc",
   "metadata": {
    "colab": {
     "base_uri": "https://localhost:8080/"
    },
    "id": "3ywqfwl3ABUc",
    "outputId": "9550bb9f-577a-4b16-af65-de517227961e"
   },
   "outputs": [
    {
     "name": "stdout",
     "output_type": "stream",
     "text": [
      "Original dataset shape Counter({0: 4816146, 1: 3487})\n",
      "Resampled dataset shape Counter({0: 4816146, 1: 4816146})\n"
     ]
    }
   ],
   "source": [
    "\n",
    "print('Original dataset shape {}'.format(Counter(y_train)))\n",
    "print('Resampled dataset shape {}'.format(Counter(y_train_res)))\n"
   ]
  },
  {
   "cell_type": "markdown",
   "id": "SqrxxFlj09b1",
   "metadata": {
    "id": "SqrxxFlj09b1"
   },
   "source": [
    "*  Now our train data contain fair share of both these categories"
   ]
  },
  {
   "cell_type": "code",
   "execution_count": 34,
   "id": "Z_UVouf6ClDi",
   "metadata": {
    "colab": {
     "base_uri": "https://localhost:8080/"
    },
    "id": "Z_UVouf6ClDi",
    "outputId": "43fc77f8-f98c-4a74-db35-95860036344c"
   },
   "outputs": [
    {
     "data": {
      "text/plain": [
       "((4819633, 9), (9632292, 9))"
      ]
     },
     "execution_count": 34,
     "metadata": {},
     "output_type": "execute_result"
    }
   ],
   "source": [
    "x_train.shape, x_train_res.shape"
   ]
  },
  {
   "cell_type": "markdown",
   "id": "359ae48d",
   "metadata": {
    "id": "359ae48d"
   },
   "source": [
    "#  5. Model Training & Evaluation"
   ]
  },
  {
   "cell_type": "markdown",
   "id": "4c1084a9",
   "metadata": {
    "id": "4c1084a9"
   },
   "source": [
    "#### 1. Using Logistic Regression Algorithm\n"
   ]
  },
  {
   "cell_type": "code",
   "execution_count": 35,
   "id": "cdb0c7a9",
   "metadata": {
    "colab": {
     "base_uri": "https://localhost:8080/"
    },
    "id": "cdb0c7a9",
    "outputId": "df801efb-7cd1-4528-b758-7af77c42fe1b"
   },
   "outputs": [
    {
     "name": "stdout",
     "output_type": "stream",
     "text": [
      "For Logistic Regression Model\n",
      "--------------------------------------------------\n",
      "         0       1\n",
      "0  1080948  123089\n",
      "1       33     839\n",
      "--------------------------------------------------\n",
      "Accuracy -  0.8978163496164441\n",
      "Precision -  0.00677006003485895\n",
      "Recall -  0.9621559633027523\n",
      "F1 score -  0.013445512820512822\n"
     ]
    }
   ],
   "source": [
    "from sklearn.linear_model import LogisticRegression\n",
    "classifier1=LogisticRegression(random_state=0)\n",
    "classifier1.fit(x_train_res,y_train_res)\n",
    "y_pred1=classifier1.predict(x_test)\n",
    "\n",
    "#Performance Metrics\n",
    "print('For Logistic Regression Model')\n",
    "print(\"-\"*50)\n",
    "lr = pd.DataFrame(confusion_matrix(y_test,y_pred1),columns=list(range(0,2)))\n",
    "print(lr)\n",
    "print(\"-\"*50)\n",
    "print(\"Accuracy - \", accuracy_score(y_test,y_pred1))\n",
    "print(\"Precision - \", precision_score(y_test,y_pred1))\n",
    "print(\"Recall - \", recall_score(y_test,y_pred1))\n",
    "print(\"F1 score - \", f1_score(y_test,y_pred1))\n"
   ]
  },
  {
   "cell_type": "markdown",
   "id": "ff5e476c",
   "metadata": {
    "id": "ff5e476c"
   },
   "source": [
    "#### 2. Using Random Forest Algorithm"
   ]
  },
  {
   "cell_type": "code",
   "execution_count": 36,
   "id": "4d3347c1",
   "metadata": {
    "colab": {
     "base_uri": "https://localhost:8080/"
    },
    "id": "4d3347c1",
    "outputId": "a22eced2-7b96-440c-bb55-281fd420e4ab"
   },
   "outputs": [
    {
     "name": "stdout",
     "output_type": "stream",
     "text": [
      "For Random Forest Model\n",
      "--------------------------------------------------\n",
      "         0    1\n",
      "0  1203950   87\n",
      "1      332  540\n",
      "--------------------------------------------------\n",
      "Accuracy -  0.9996522558965034\n",
      "Precision -  0.861244019138756\n",
      "Recall -  0.6192660550458715\n",
      "F1 score -  0.7204803202134756\n"
     ]
    }
   ],
   "source": [
    "from sklearn.ensemble import RandomForestClassifier\n",
    "classifier2=RandomForestClassifier(n_estimators=5,criterion='entropy',random_state=0)\n",
    "classifier2.fit(x_train_res,y_train_res)\n",
    "y_pred2=classifier2.predict(x_test)\n",
    "\n",
    "#Performance Metrics\n",
    "print('For Random Forest Model')\n",
    "print(\"-\"*50)\n",
    "lr = pd.DataFrame(confusion_matrix(y_test,y_pred2),columns=list(range(0,2)))\n",
    "print(lr)\n",
    "print(\"-\"*50)\n",
    "print(\"Accuracy - \", accuracy_score(y_test,y_pred2))\n",
    "print(\"Precision - \", precision_score(y_test,y_pred2))\n",
    "print(\"Recall - \", recall_score(y_test,y_pred2))\n",
    "print(\"F1 score - \", f1_score(y_test,y_pred2))\n"
   ]
  },
  {
   "cell_type": "markdown",
   "id": "152ba887",
   "metadata": {
    "id": "152ba887"
   },
   "source": [
    "#### 3. Using Gradient Boosting Algorithm"
   ]
  },
  {
   "cell_type": "code",
   "execution_count": 37,
   "id": "72d2c1b2",
   "metadata": {
    "colab": {
     "base_uri": "https://localhost:8080/"
    },
    "id": "72d2c1b2",
    "outputId": "67fed912-0972-4039-c265-3071c2a668b7"
   },
   "outputs": [
    {
     "name": "stdout",
     "output_type": "stream",
     "text": [
      "For Gradient Boost Model\n",
      "--------------------------------------------------\n",
      "         0    1\n",
      "0  1204016   21\n",
      "1      448  424\n",
      "--------------------------------------------------\n",
      "Accuracy -  0.9996107589867782\n",
      "Precision -  0.952808988764045\n",
      "Recall -  0.48623853211009177\n",
      "F1 score -  0.6438876233864844\n"
     ]
    }
   ],
   "source": [
    "from xgboost import XGBClassifier\n",
    "classifier3=XGBClassifier(n_estimators=5,objective='binary:logistic',learning_rate=0.1)\n",
    "classifier3.fit(x_train,y_train)\n",
    "y_pred3=classifier3.predict(x_test)\n",
    "\n",
    "#Performance Metrics\n",
    "print('For Gradient Boost Model')\n",
    "print(\"-\"*50)\n",
    "lr = pd.DataFrame(confusion_matrix(y_test,y_pred3),columns=list(range(0,2)))\n",
    "print(lr)\n",
    "print(\"-\"*50)\n",
    "print(\"Accuracy - \", accuracy_score(y_test,y_pred3))\n",
    "print(\"Precision - \", precision_score(y_test,y_pred3))\n",
    "print(\"Recall - \", recall_score(y_test,y_pred3))\n",
    "print(\"F1 score - \", f1_score(y_test,y_pred3))\n"
   ]
  },
  {
   "cell_type": "markdown",
   "id": "3c1f9e99",
   "metadata": {
    "id": "4e6d965d"
   },
   "source": [
    "#### 4. Evaluation using ROC AUC Curve"
   ]
  },
  {
   "cell_type": "code",
   "execution_count": 38,
   "id": "4e53fe3d",
   "metadata": {
    "colab": {
     "base_uri": "https://localhost:8080/"
    },
    "id": "4e53fe3d",
    "outputId": "6589ae1a-4f59-453b-be42-55d24f4e79df"
   },
   "outputs": [
    {
     "name": "stdout",
     "output_type": "stream",
     "text": [
      "ROC-AUC score for Logistic Regression Model is 0.96641725547265\n",
      "ROC-AUC score for Random Forest Model is 0.8936838116880084\n",
      "ROC-AUC score for Gradient Boost Model is 0.8577880505599994\n"
     ]
    }
   ],
   "source": [
    "#calculating predicted probabilities for every model\n",
    "log_reg = classifier1.predict_proba(x_test)\n",
    "rf_cls = classifier2.predict_proba(x_test)\n",
    "gb_cls = classifier3.predict_proba(x_test)\n",
    "\n",
    "#probabilities for positive outcome \n",
    "log_reg = log_reg[:,1]\n",
    "rf_cls = rf_cls[:,1]\n",
    "gb_cls = gb_cls[:,1]\n",
    "\n",
    "#calculating roc_auc score for each model\n",
    "log_reg_auc = roc_auc_score(y_test,log_reg)\n",
    "rf_auc = roc_auc_score(y_test,rf_cls)\n",
    "gb_auc = roc_auc_score(y_test,gb_cls)\n",
    "print(\"ROC-AUC score for Logistic Regression Model is\",log_reg_auc)\n",
    "print(\"ROC-AUC score for Random Forest Model is\",rf_auc)\n",
    "print(\"ROC-AUC score for Gradient Boost Model is\",gb_auc)"
   ]
  },
  {
   "cell_type": "code",
   "execution_count": 39,
   "id": "21d2f626",
   "metadata": {
    "colab": {
     "base_uri": "https://localhost:8080/",
     "height": 265
    },
    "id": "21d2f626",
    "outputId": "08b4cadf-10ed-470f-9fa1-994a91aca287"
   },
   "outputs": [
    {
     "data": {
      "image/png": "[encoded data removed]",
      "text/plain": [
       "<Figure size 432x288 with 1 Axes>"
      ]
     },
     "metadata": {
      "needs_background": "light"
     },
     "output_type": "display_data"
    }
   ],
   "source": [
    "#calculating ROC Curve\n",
    "log_reg_fpr,log_reg_tpr, _ = roc_curve(y_test,log_reg)\n",
    "rf_fpr,rf_tpr, _=  roc_curve(y_test,rf_cls)\n",
    "gb_fpr,gb_tpr, _ = roc_curve(y_test,gb_cls)\n",
    "\n",
    "#Plotting ROC Curve\n",
    "plt.plot(log_reg_fpr,log_reg_tpr,marker='_',label='Logistic Regression')\n",
    "plt.plot(rf_fpr,rf_tpr,marker='.',label='Random Forest')\n",
    "plt.plot(gb_fpr,gb_tpr,marker=',',label='Gradient Boost')\n",
    "plt.legend()\n",
    "plt.show()"
   ]
  },
  {
   "cell_type": "markdown",
   "id": "n7oISnct_oBP",
   "metadata": {
    "id": "n7oISnct_oBP"
   },
   "source": [
    "# 6.Conclusion"
   ]
  },
  {
   "cell_type": "markdown",
   "id": "fdat6qgKZaZv",
   "metadata": {
    "id": "fdat6qgKZaZv"
   },
   "source": [
    "Based upon the provided evaluation metrics, the Random Forest and Gradient Boost models have higher accuracy scores than the Logistic Regression model, which suggests they may perform better in predicting the target variable.\n",
    "Given that the dataset is highly imbalanced we will consider precision and recall score as our deciding factor."
   ]
  },
  {
   "cell_type": "markdown",
   "id": "WBrVeI_zbQ0t",
   "metadata": {
    "id": "WBrVeI_zbQ0t"
   },
   "source": [
    "In fraud detection, precision is generally considered a more reliable metric than recall. This is because in fraud detection, the cost associated with false positive is often much higher than the cost of a false negative. Therefore, we will try to minimize false positives cases and ensure that legitimate transactions are not wrongly classified as fraudulent."
   ]
  },
  {
   "cell_type": "markdown",
   "id": "0dsLmBp790jo",
   "metadata": {
    "id": "0dsLmBp790jo"
   },
   "source": [
    "Even though Gradient Boost is having slightly lesser ROC-AUC score but since its having higher precision score than Random Forest, So I have selected **Gradient Boost** as the best model for this case"
   ]
  },
  {
   "cell_type": "markdown",
   "id": "70963b53",
   "metadata": {},
   "source": [
    "# 7. Optimization"
   ]
  },
  {
   "cell_type": "markdown",
   "id": "9053c00b",
   "metadata": {},
   "source": [
    "Employing dropout techniques in deep learning algorithms such as artificial neural networks (ANN) can lead to enhanced Model performance."
   ]
  },
  {
   "cell_type": "markdown",
   "id": "3c459b75",
   "metadata": {
    "id": "fdac1069"
   },
   "source": [
    "####  Key factors that predict fraudulent customer\n",
    "\n"
   ]
  },
  {
   "cell_type": "markdown",
   "id": "d7e7e794",
   "metadata": {
    "id": "b3628000"
   },
   "source": [
    "Checking source of request or transaction history of vendors could be few factors in predicting fradulent customers"
   ]
  },
  {
   "cell_type": "markdown",
   "id": "7ec8787a",
   "metadata": {
    "id": "cf502f9c"
   },
   "source": [
    "#### Prevention adopted while updating company Infrastructure"
   ]
  },
  {
   "cell_type": "markdown",
   "id": "dbec3165",
   "metadata": {
    "id": "babc977b"
   },
   "source": [
    "Browsing securely, using verified apps and securing internet connection could be employed while updating infrastructure"
   ]
  }
 ],
 "metadata": {
  "accelerator": "TPU",
  "colab": {
   "provenance": []
  },
  "gpuClass": "standard",
  "kernelspec": {
   "display_name": "Python 3 (ipykernel)",
   "language": "python",
   "name": "python3"
  },
  "language_info": {
   "codemirror_mode": {
    "name": "ipython",
    "version": 3
   },
   "file_extension": ".py",
   "mimetype": "text/x-python",
   "name": "python",
   "nbconvert_exporter": "python",
   "pygments_lexer": "ipython3",
   "version": "3.9.12"
  }
 },
 "nbformat": 4,
 "nbformat_minor": 5
}
